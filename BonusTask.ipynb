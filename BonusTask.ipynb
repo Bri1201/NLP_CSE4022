{
 "cells": [
  {
   "cell_type": "markdown",
   "id": "65aab82e",
   "metadata": {},
   "source": [
    "# Are Mrs. Lakshmi Sankaran's articles unique and original? "
   ]
  },
  {
   "cell_type": "markdown",
   "id": "f0a1e1fc",
   "metadata": {},
   "source": [
    "#### The main objective of this exercise is to determine if Mrs. Lakshmi Sankaran's articles are monotonous or are they unique and original. \n"
   ]
  },
  {
   "cell_type": "markdown",
   "id": "b40630f3",
   "metadata": {},
   "source": [
    "## Process\n",
    "#### 1.Text preprocessing\n",
    "#### 1.1 Tokenization\n",
    "#### 1.2 Stemming/ Lemmatization\n",
    "#### 1.3 Remove stopwords\n",
    "#### 2. Vectorize the text\n",
    "#### 3. Compare the texts using cosine similarity\n",
    "\n",
    "\n",
    "\n",
    "\n",
    "\n",
    "\n"
   ]
  },
  {
   "cell_type": "code",
   "execution_count": 58,
   "id": "4072c2bd",
   "metadata": {},
   "outputs": [],
   "source": [
    "#Importing libraries\n",
    "\n",
    "#For word pre processing\n",
    "import nltk\n",
    "from nltk.corpus import wordnet\n",
    "from nltk.corpus import stopwords\n",
    "from nltk.tokenize import word_tokenize\n",
    "from nltk.stem import WordNetLemmatizer\n",
    "import pandas as pd\n",
    "\n",
    "#For finding similarity\n",
    "from sklearn.feature_extraction.text import TfidfVectorizer,CountVectorizer\n",
    "from sklearn.metrics.pairwise import cosine_similarity\n",
    "\n",
    "#For visualising the similarity\n",
    "import seaborn as sns\n",
    "import matplotlib.pyplot as plt"
   ]
  },
  {
   "cell_type": "code",
   "execution_count": 48,
   "id": "a437f313",
   "metadata": {},
   "outputs": [],
   "source": [
    "#Importing the text and creating the corpus\n",
    "\n",
    "with open('SearchingForOurPopCultureGods.txt', 'r', encoding = 'utf-8') as file:\n",
    "    article1 = file.read()\n",
    "\n",
    "with open('aCitysStateOfMind.txt', 'r', encoding = 'utf-8') as file:\n",
    "    article2 = file.read()\n",
    "    \n",
    "with open('howDeepIsYourTravelLove.txt', 'r', encoding = 'utf-8') as file:\n",
    "    article3 = file.read()\n",
    "    \n",
    "\n"
   ]
  },
  {
   "cell_type": "code",
   "execution_count": 49,
   "id": "a62f2ed1",
   "metadata": {},
   "outputs": [],
   "source": [
    "#Let us create a function to perform pre processing which takes the article as an input\n",
    "\n",
    "#Before this we define a function to map POS tags to WordNet POS tags so that it can be used for lemmatization\n",
    "\n",
    "def get_wordnet_pos(treebank_tag):\n",
    "    if treebank_tag.startswith('J'):\n",
    "        return wordnet.ADJ\n",
    "    elif treebank_tag.startswith('V'):\n",
    "        return wordnet.VERB\n",
    "    elif treebank_tag.startswith('N'):\n",
    "        return wordnet.NOUN\n",
    "    elif treebank_tag.startswith('R'):\n",
    "        return wordnet.ADV\n",
    "    else:\n",
    "        return wordnet.NOUN\n",
    "\n",
    "def preProcess(article):\n",
    "    #First we perform tokenization\n",
    "    tokens = word_tokenize(article)\n",
    "    \n",
    "    #Remove punctuations(?)\n",
    "    \n",
    "    tokens = [token for token in tokens if token.isalnum()]\n",
    "    #return tokens\n",
    "    #Then we perform POS tagging which will help in lemmatization\n",
    "    tagged = nltk.pos_tag(tokens)\n",
    "    #return tagged\n",
    "    lemmatizer = WordNetLemmatizer()\n",
    "    #Next we perform lemmatization\n",
    "    \n",
    "    lemmatized_tokens = [lemmatizer.lemmatize(token, get_wordnet_pos(tag)) for token, tag in tagged]\n",
    "    #return(lemmatized_tokens)\n",
    "    #Removing stop words\n",
    "    stop_words = set(stopwords.words('english'))\n",
    "    filtered_tokens = [token for token in tokens if not token.lower() in stop_words]\n",
    "    return ' '.join(filtered_tokens)\n",
    "\n",
    "    \n",
    "\n",
    "\n",
    "\n",
    "\n"
   ]
  },
  {
   "cell_type": "code",
   "execution_count": 63,
   "id": "a42acab2",
   "metadata": {},
   "outputs": [
    {
     "name": "stdout",
     "output_type": "stream",
     "text": [
      "[[1.         0.05382649 0.03945607]\n",
      " [0.05382649 1.         0.06055612]\n",
      " [0.03945607 0.06055612 1.        ]]\n"
     ]
    }
   ],
   "source": [
    "#Now we apply the functions\n",
    "cleaned1 = preProcess(article1)\n",
    "cleaned2 = preProcess(article2)\n",
    "cleaned3 = preProcess(article3)\n",
    "\n",
    "docList = [cleaned1, cleaned2, cleaned3]\n",
    "#vect = TfidfVectorizer(binary=True)\n",
    "vectorizer = TfidfVectorizer(binary=True).fit_transform(docList)\n",
    "tokens = vectorizer.toarray()\n",
    "cos_sim = cosine_similarity(tokens)\n",
    "print(cos_sim)\n"
   ]
  },
  {
   "cell_type": "code",
   "execution_count": 64,
   "id": "7c9e2dc4",
   "metadata": {
    "scrolled": true
   },
   "outputs": [
    {
     "data": {
      "text/plain": [
       "<AxesSubplot:>"
      ]
     },
     "execution_count": 64,
     "metadata": {},
     "output_type": "execute_result"
    },
    {
     "data": {
      "image/png": "[encoded data removed]",
      "text/plain": [
       "<Figure size 640x480 with 2 Axes>"
      ]
     },
     "metadata": {},
     "output_type": "display_data"
    }
   ],
   "source": [
    "sns.heatmap(cos_sim, annot=True, cmap='Blues')"
   ]
  },
  {
   "cell_type": "code",
   "execution_count": 65,
   "id": "dc129639",
   "metadata": {},
   "outputs": [
    {
     "name": "stdout",
     "output_type": "stream",
     "text": [
      "Jaccard similarity between the the text1 and text2 is: 0.04\n",
      "Jaccard similarity between the the text2 and text3 is: 0.05\n",
      "Jaccard similarity between the the text1 and text3 is: 0.04\n"
     ]
    }
   ],
   "source": [
    "# Finding Jaccard similarity\n",
    "\n",
    "t1 = set(word_tokenize(cleaned1))\n",
    "t2 = set(word_tokenize(cleaned2))\n",
    "t3 = set(word_tokenize(cleaned3))\n",
    "\n",
    "\n",
    "similarity = len(t1.intersection(t2)) / len(t1.union(t2))\n",
    "print(\"Jaccard similarity between the the text1 and text2 is: {:.2f}\".format(similarity))\n",
    "\n",
    "similarity2 = len(t2.intersection(t3)) / len(t2.union(t3))\n",
    "print(\"Jaccard similarity between the the text2 and text3 is: {:.2f}\".format(similarity2))\n",
    "\n",
    "similarity3 = len(t1.intersection(t3)) / len(t1.union(t3))\n",
    "print(\"Jaccard similarity between the the text1 and text3 is: {:.2f}\".format(similarity3))"
   ]
  },
  {
   "cell_type": "markdown",
   "id": "5e94ba10",
   "metadata": {},
   "source": [
    "## Conclusion\n",
    "\n",
    "\n",
    "From the above information we can deduce that Jaccard similarity will be more suited for our purpose as we are comparing the uniqueness of two texts. We can see that the similarity between the texts is around 4% which is pretty less. \n",
    "Therefore, from looking at the three articles we may conclude that laxmi Sankaran's articles are not monotonous.\n",
    "\n",
    "\n",
    "\n"
   ]
  }
 ],
 "metadata": {
  "kernelspec": {
   "display_name": "Python 3 (ipykernel)",
   "language": "python",
   "name": "python3"
  },
  "language_info": {
   "codemirror_mode": {
    "name": "ipython",
    "version": 3
   },
   "file_extension": ".py",
   "mimetype": "text/x-python",
   "name": "python",
   "nbconvert_exporter": "python",
   "pygments_lexer": "ipython3",
   "version": "3.9.13"
  }
 },
 "nbformat": 4,
 "nbformat_minor": 5
}
