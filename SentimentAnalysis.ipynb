{
 "cells": [
  {
   "cell_type": "code",
   "execution_count": 1,
   "id": "f139b778",
   "metadata": {},
   "outputs": [],
   "source": [
    "import pandas as pd\n",
    "data = pd.read_csv('IMDB_Dataset.csv/IMDB_Dataset.csv')"
   ]
  },
  {
   "cell_type": "code",
   "execution_count": 2,
   "id": "5c8dbb15",
   "metadata": {},
   "outputs": [
    {
     "data": {
      "text/html": [
       "<div>\n",
       "<style scoped>\n",
       "    .dataframe tbody tr th:only-of-type {\n",
       "        vertical-align: middle;\n",
       "    }\n",
       "\n",
       "    .dataframe tbody tr th {\n",
       "        vertical-align: top;\n",
       "    }\n",
       "\n",
       "    .dataframe thead th {\n",
       "        text-align: right;\n",
       "    }\n",
       "</style>\n",
       "<table border=\"1\" class=\"dataframe\">\n",
       "  <thead>\n",
       "    <tr style=\"text-align: right;\">\n",
       "      <th></th>\n",
       "      <th>review</th>\n",
       "      <th>sentiment</th>\n",
       "    </tr>\n",
       "  </thead>\n",
       "  <tbody>\n",
       "    <tr>\n",
       "      <th>0</th>\n",
       "      <td>One of the other reviewers has mentioned that ...</td>\n",
       "      <td>positive</td>\n",
       "    </tr>\n",
       "    <tr>\n",
       "      <th>1</th>\n",
       "      <td>A wonderful little production. &lt;br /&gt;&lt;br /&gt;The...</td>\n",
       "      <td>positive</td>\n",
       "    </tr>\n",
       "    <tr>\n",
       "      <th>2</th>\n",
       "      <td>I thought this was a wonderful way to spend ti...</td>\n",
       "      <td>positive</td>\n",
       "    </tr>\n",
       "    <tr>\n",
       "      <th>3</th>\n",
       "      <td>Basically there's a family where a little boy ...</td>\n",
       "      <td>negative</td>\n",
       "    </tr>\n",
       "    <tr>\n",
       "      <th>4</th>\n",
       "      <td>Petter Mattei's \"Love in the Time of Money\" is...</td>\n",
       "      <td>positive</td>\n",
       "    </tr>\n",
       "  </tbody>\n",
       "</table>\n",
       "</div>"
      ],
      "text/plain": [
       "                                              review sentiment\n",
       "0  One of the other reviewers has mentioned that ...  positive\n",
       "1  A wonderful little production. <br /><br />The...  positive\n",
       "2  I thought this was a wonderful way to spend ti...  positive\n",
       "3  Basically there's a family where a little boy ...  negative\n",
       "4  Petter Mattei's \"Love in the Time of Money\" is...  positive"
      ]
     },
     "execution_count": 2,
     "metadata": {},
     "output_type": "execute_result"
    }
   ],
   "source": [
    "data.head()\n"
   ]
  },
  {
   "cell_type": "code",
   "execution_count": 3,
   "id": "af80084d",
   "metadata": {},
   "outputs": [],
   "source": [
    "from sklearn.feature_extraction.text import TfidfVectorizer\n",
    "tfidf = TfidfVectorizer()"
   ]
  },
  {
   "cell_type": "code",
   "execution_count": 4,
   "id": "956c024a",
   "metadata": {},
   "outputs": [
    {
     "name": "stdout",
     "output_type": "stream",
     "text": [
      "{'the': 6, 'sun': 4, 'is': 1, 'shining': 3, 'weather': 8, 'sweet': 5, 'and': 0, 'one': 2, 'two': 7}\n"
     ]
    }
   ],
   "source": [
    "import numpy as np\n",
    "doc = np.array(['The sun is shining',\n",
    "                 'The weather is sweet',\n",
    "                 'The sun is shining, the weather is sweet, and one and one is two'])\n",
    "bag = tfidf.fit_transform(doc)\n",
    "print(tfidf.vocabulary_)"
   ]
  },
  {
   "cell_type": "code",
   "execution_count": 5,
   "id": "f4e42fa3",
   "metadata": {},
   "outputs": [
    {
     "name": "stdout",
     "output_type": "stream",
     "text": [
      "  (0, 3)\t0.5584778353707552\n",
      "  (0, 1)\t0.4337078595086741\n",
      "  (0, 4)\t0.5584778353707552\n",
      "  (0, 6)\t0.4337078595086741\n",
      "  (1, 5)\t0.5584778353707552\n",
      "  (1, 8)\t0.5584778353707552\n",
      "  (1, 1)\t0.4337078595086741\n",
      "  (1, 6)\t0.4337078595086741\n",
      "  (2, 7)\t0.25119322405394995\n",
      "  (2, 2)\t0.5023864481078999\n",
      "  (2, 0)\t0.5023864481078999\n",
      "  (2, 5)\t0.191038921512224\n",
      "  (2, 8)\t0.191038921512224\n",
      "  (2, 3)\t0.191038921512224\n",
      "  (2, 1)\t0.44507629390649395\n",
      "  (2, 4)\t0.191038921512224\n",
      "  (2, 6)\t0.296717529270996\n"
     ]
    }
   ],
   "source": [
    "print(bag)\n"
   ]
  },
  {
   "cell_type": "code",
   "execution_count": 6,
   "id": "f99e9e97",
   "metadata": {},
   "outputs": [
    {
     "name": "stdout",
     "output_type": "stream",
     "text": [
      "[[0.         0.43370786 0.         0.55847784 0.55847784 0.\n",
      "  0.43370786 0.         0.        ]\n",
      " [0.         0.43370786 0.         0.         0.         0.55847784\n",
      "  0.43370786 0.         0.55847784]\n",
      " [0.50238645 0.44507629 0.50238645 0.19103892 0.19103892 0.19103892\n",
      "  0.29671753 0.25119322 0.19103892]]\n"
     ]
    }
   ],
   "source": [
    "print(bag.toarray())"
   ]
  },
  {
   "cell_type": "code",
   "execution_count": 7,
   "id": "69f6c55e",
   "metadata": {},
   "outputs": [
    {
     "data": {
      "text/plain": [
       "['coder', 'like', 'code', 'and', 'so', 'they', 'code']"
      ]
     },
     "execution_count": 7,
     "metadata": {},
     "output_type": "execute_result"
    }
   ],
   "source": [
    "from nltk.stem.porter import PorterStemmer\n",
    "porter = PorterStemmer()\n",
    "\n",
    "def stemmer_tokenize(text):\n",
    "    return[porter.stem(word) for word in text.split()]\n",
    "stemmer_tokenize('coders like coding and so they code')"
   ]
  },
  {
   "cell_type": "code",
   "execution_count": null,
   "id": "606cf506",
   "metadata": {},
   "outputs": [],
   "source": [
    "tfidata = TfidfVectorizer(strip_accents = None,\n",
    "                       lowercase = False,\n",
    "                       tokenizer = stemmer_tokenize,\n",
    "                       norm='l2',use_idf=True,\n",
    "                       smooth_idf=True)\n",
    "Y = data.sentiment.values\n",
    "X = tfidata.fit_transform(data.review)"
   ]
  },
  {
   "cell_type": "code",
   "execution_count": null,
   "id": "61745c2b",
   "metadata": {},
   "outputs": [],
   "source": [
    "from sklearn.model_selection import train_test_split\n",
    "X_train, X_test, Y_train,Y_test = train_test_split(X, Y, random_state =1,\n",
    "                                                  test_size = 0.5, shuffle = False)\n",
    "import pickle\n",
    "from sklearn.linear_model import LogisticRegressionCV\n",
    "#model\n",
    "clf = LogisticRegressionCV(cv = 5, scoring = 'accuracy', random_state = 1, n_jobs = -3, verbose = 3, max_iter = 300).fit(X_train,Y_train)\n",
    "\n",
    "#saving model\n",
    "saved_model = open('saved_model.sav' , 'wb')\n",
    "pickle.dump(clf, saved_model)"
   ]
  },
  {
   "cell_type": "code",
   "execution_count": null,
   "id": "9bf5ec6f",
   "metadata": {},
   "outputs": [],
   "source": [
    "with open('saved_model.sav', 'rb') as f2:\n",
    "    loaded_model = pickle.load(f2)"
   ]
  },
  {
   "cell_type": "code",
   "execution_count": null,
   "id": "df0ff5c6",
   "metadata": {},
   "outputs": [],
   "source": [
    "y_pred = loaded_model.predict(X_test)"
   ]
  },
  {
   "cell_type": "code",
   "execution_count": null,
   "id": "ee7d37d6",
   "metadata": {},
   "outputs": [],
   "source": [
    "# Printing the classification report and the confusion matrix\n",
    "print(classification_report(y_test,y_pred))\n",
    "print(\"\\n\\n\")\n",
    "print(confusion_matrix(y_test,y_pred))"
   ]
  },
  {
   "cell_type": "code",
   "execution_count": null,
   "id": "e0070715",
   "metadata": {},
   "outputs": [],
   "source": []
  }
 ],
 "metadata": {
  "kernelspec": {
   "display_name": "Python 3 (ipykernel)",
   "language": "python",
   "name": "python3"
  },
  "language_info": {
   "codemirror_mode": {
    "name": "ipython",
    "version": 3
   },
   "file_extension": ".py",
   "mimetype": "text/x-python",
   "name": "python",
   "nbconvert_exporter": "python",
   "pygments_lexer": "ipython3",
   "version": "3.9.13"
  }
 },
 "nbformat": 4,
 "nbformat_minor": 5
}
