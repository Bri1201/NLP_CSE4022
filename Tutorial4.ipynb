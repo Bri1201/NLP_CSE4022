{
 "cells": [
  {
   "cell_type": "markdown",
   "id": "75585212",
   "metadata": {},
   "source": [
    "# Tutorial Class 4\n",
    "\n",
    "##### This tutorial comprises of the following subtasks\n",
    "##### 1.Scraping the web\n",
    "##### 2.Stemming\n",
    "##### 3.Lemmatization\n",
    "##### 4. Task\n",
    "\n",
    "\n",
    "\n",
    "\n",
    "\n",
    "\n"
   ]
  },
  {
   "cell_type": "markdown",
   "id": "673ffdb3",
   "metadata": {},
   "source": [
    "### 1.Scraping the web"
   ]
  },
  {
   "cell_type": "code",
   "execution_count": 85,
   "id": "83e3ac27",
   "metadata": {},
   "outputs": [],
   "source": [
    "#For getting information from the web\n",
    "from urllib import request\n",
    "import nltk\n",
    "from nltk.tokenize import word_tokenize"
   ]
  },
  {
   "cell_type": "code",
   "execution_count": 86,
   "id": "ea5591b0",
   "metadata": {},
   "outputs": [],
   "source": [
    "url = \"https://www.gutenberg.org/files/98/98-0.txt\""
   ]
  },
  {
   "cell_type": "code",
   "execution_count": 20,
   "id": "442b4f6c",
   "metadata": {},
   "outputs": [],
   "source": [
    "response = request.urlopen(url)"
   ]
  },
  {
   "cell_type": "code",
   "execution_count": 21,
   "id": "0826c8d9",
   "metadata": {},
   "outputs": [],
   "source": [
    "raw = response.read().decode('utf8')"
   ]
  },
  {
   "cell_type": "code",
   "execution_count": 27,
   "id": "fc45f359",
   "metadata": {},
   "outputs": [],
   "source": [
    "#Use regular expression to get rid of the tags and then do sentence tokenization, perform word tokenization\n",
    "# and then perform POS tagging. Analyze!\n",
    "\n",
    "#Explore BeautifulSoup\n"
   ]
  },
  {
   "cell_type": "code",
   "execution_count": 22,
   "id": "01af013b",
   "metadata": {},
   "outputs": [
    {
     "name": "stdout",
     "output_type": "stream",
     "text": [
      "['\\ufeffThe', 'Project', 'Gutenberg', 'eBook', 'of', 'A', 'Tale', 'of', 'Two', 'Cities', ',', 'by', 'Charles', 'Dickens', 'This', 'eBook', 'is', 'for', 'the', 'use', 'of', 'anyone', 'anywhere', 'in', 'the', 'United', 'States', 'and', 'most', 'other', 'parts', 'of', 'the', 'world', 'at', 'no', 'cost', 'and', 'with', 'almost', 'no', 'restrictions', 'whatsoever', '.', 'You', 'may', 'copy', 'it', ',', 'give', 'it', 'away', 'or', 're-use', 'it', 'under', 'the', 'terms', 'of', 'the', 'Project', 'Gutenberg', 'License', 'included', 'with', 'this', 'eBook', 'or', 'online', 'at', 'www.gutenberg.org', '.', 'If', 'you', 'are', 'not', 'located', 'in', 'the', 'United', 'States', ',', 'you', 'will', 'have', 'to', 'check', 'the', 'laws', 'of', 'the', 'country', 'where', 'you', 'are', 'located', 'before', 'using', 'this', 'eBook', '.', 'Title', ':', 'A', 'Tale', 'of', 'Two', 'Cities', 'A', 'Story', 'of', 'the', 'French', 'Revolution', 'Author', ':', 'Charles', 'Dickens', 'Release', 'Date', ':', 'January', ',', '1994', '[', 'eBook', '#', '98', ']', '[', 'Most', 'recently', 'updated', ':', 'December', '20', ',', '2020', ']', 'Language', ':', 'English', 'Character', 'set', 'encoding', ':', 'UTF-8', 'Produced', 'by', ':', 'Judith', 'Boss', 'and', 'David', 'Widger', '*', '*', '*', 'START', 'OF', 'THE', 'PROJECT', 'GUTENBERG', 'EBOOK', 'A', 'TALE', 'OF', 'TWO', 'CITIES', '*', '*', '*', 'A', 'TALE', 'OF', 'TWO', 'CITIES', 'A', 'STORY', 'OF', 'THE', 'FRENCH', 'REVOLUTION', 'By', 'Charles', 'Dickens', 'CONTENTS', 'Book', 'the', 'First', '--', 'Recalled', 'to', 'Life', 'CHAPTER', 'I', 'The', 'Period', 'CHAPTER', 'II']\n"
     ]
    }
   ],
   "source": [
    "tokens = word_tokenize(raw)\n",
    "print(tokens[:200])"
   ]
  },
  {
   "cell_type": "markdown",
   "id": "2be31608",
   "metadata": {},
   "source": [
    "## 2.Stemmers"
   ]
  },
  {
   "cell_type": "code",
   "execution_count": 30,
   "id": "ff4bf2ec",
   "metadata": {},
   "outputs": [],
   "source": [
    "# Stemmers: Porter, lancester, snwoball, regex"
   ]
  },
  {
   "cell_type": "markdown",
   "id": "4a98b9e5",
   "metadata": {},
   "source": [
    "### 2.1Porter Stemmer"
   ]
  },
  {
   "cell_type": "code",
   "execution_count": 31,
   "id": "97f08e70",
   "metadata": {},
   "outputs": [
    {
     "data": {
      "text/plain": [
       "'happi'"
      ]
     },
     "execution_count": 31,
     "metadata": {},
     "output_type": "execute_result"
    }
   ],
   "source": [
    "from nltk.stem import PorterStemmer\n",
    "porter = PorterStemmer()\n",
    "porter.stem(\"happiness\")"
   ]
  },
  {
   "cell_type": "code",
   "execution_count": 32,
   "id": "73b7c85d",
   "metadata": {},
   "outputs": [
    {
     "data": {
      "text/plain": [
       "'joyou'"
      ]
     },
     "execution_count": 32,
     "metadata": {},
     "output_type": "execute_result"
    }
   ],
   "source": [
    "porter.stem(\"joyous\")"
   ]
  },
  {
   "cell_type": "code",
   "execution_count": 33,
   "id": "91c563c5",
   "metadata": {},
   "outputs": [
    {
     "data": {
      "text/plain": [
       "'cacti'"
      ]
     },
     "execution_count": 33,
     "metadata": {},
     "output_type": "execute_result"
    }
   ],
   "source": [
    "porter.stem(\"cacti\")"
   ]
  },
  {
   "cell_type": "code",
   "execution_count": 34,
   "id": "884362da",
   "metadata": {},
   "outputs": [],
   "source": [
    "# Works very well for certain suffixes, find out which ones!"
   ]
  },
  {
   "cell_type": "markdown",
   "id": "fc22a954",
   "metadata": {},
   "source": [
    "### 2.2Lancaster Stemmer"
   ]
  },
  {
   "cell_type": "code",
   "execution_count": 38,
   "id": "5c532370",
   "metadata": {},
   "outputs": [
    {
     "data": {
      "text/plain": [
       "'happy'"
      ]
     },
     "execution_count": 38,
     "metadata": {},
     "output_type": "execute_result"
    }
   ],
   "source": [
    "from nltk.stem import LancasterStemmer\n",
    "lancaster = LancasterStemmer()\n",
    "lancaster.stem(\"happier\")"
   ]
  },
  {
   "cell_type": "code",
   "execution_count": 39,
   "id": "d9a8c588",
   "metadata": {},
   "outputs": [
    {
     "data": {
      "text/plain": [
       "'joy'"
      ]
     },
     "execution_count": 39,
     "metadata": {},
     "output_type": "execute_result"
    }
   ],
   "source": [
    "lancaster.stem('joyous')"
   ]
  },
  {
   "cell_type": "code",
   "execution_count": 41,
   "id": "f3086a3c",
   "metadata": {},
   "outputs": [
    {
     "data": {
      "text/plain": [
       "'cact'"
      ]
     },
     "execution_count": 41,
     "metadata": {},
     "output_type": "execute_result"
    }
   ],
   "source": [
    "lancaster.stem(\"cacti\")"
   ]
  },
  {
   "cell_type": "markdown",
   "id": "5439ebfa",
   "metadata": {},
   "source": [
    "### 2.3Regex Stemmer"
   ]
  },
  {
   "cell_type": "code",
   "execution_count": 42,
   "id": "7e93f818",
   "metadata": {},
   "outputs": [
    {
     "data": {
      "text/plain": [
       "'walk'"
      ]
     },
     "execution_count": 42,
     "metadata": {},
     "output_type": "execute_result"
    }
   ],
   "source": [
    "from nltk.stem import RegexpStemmer\n",
    "reg = RegexpStemmer('ing')\n",
    "reg.stem('walking')"
   ]
  },
  {
   "cell_type": "code",
   "execution_count": 43,
   "id": "7203bfdc",
   "metadata": {},
   "outputs": [
    {
     "data": {
      "text/plain": [
       "'s'"
      ]
     },
     "execution_count": 43,
     "metadata": {},
     "output_type": "execute_result"
    }
   ],
   "source": [
    "reg.stem('singing')"
   ]
  },
  {
   "cell_type": "code",
   "execution_count": 44,
   "id": "805c6ae0",
   "metadata": {},
   "outputs": [
    {
     "data": {
      "text/plain": [
       "'sing'"
      ]
     },
     "execution_count": 44,
     "metadata": {},
     "output_type": "execute_result"
    }
   ],
   "source": [
    "reg = RegexpStemmer('ing$')\n",
    "reg.stem('singing')"
   ]
  },
  {
   "cell_type": "code",
   "execution_count": 45,
   "id": "59285b95",
   "metadata": {},
   "outputs": [
    {
     "data": {
      "text/plain": [
       "'S'"
      ]
     },
     "execution_count": 45,
     "metadata": {},
     "output_type": "execute_result"
    }
   ],
   "source": [
    "reg.stem(\"Sing\")"
   ]
  },
  {
   "cell_type": "markdown",
   "id": "663dc7df",
   "metadata": {},
   "source": [
    "### 3.Snowball Stemmer"
   ]
  },
  {
   "cell_type": "code",
   "execution_count": 55,
   "id": "5eda6ae5",
   "metadata": {},
   "outputs": [
    {
     "data": {
      "text/plain": [
       "'mang'"
      ]
     },
     "execution_count": 55,
     "metadata": {},
     "output_type": "execute_result"
    }
   ],
   "source": [
    "from nltk.stem import SnowballStemmer\n",
    "snow = SnowballStemmer(language='french')\n",
    "snow.stem('manges')"
   ]
  },
  {
   "cell_type": "code",
   "execution_count": 51,
   "id": "9de1e786",
   "metadata": {},
   "outputs": [],
   "source": [
    "#This is wrong should be manger"
   ]
  },
  {
   "cell_type": "code",
   "execution_count": 84,
   "id": "5860ebd9",
   "metadata": {},
   "outputs": [
    {
     "data": {
      "text/plain": [
       "['it',\n",
       " 'was',\n",
       " 'the',\n",
       " 'best',\n",
       " 'of',\n",
       " 'tim',\n",
       " ',',\n",
       " 'it',\n",
       " 'was',\n",
       " 'the',\n",
       " 'worst',\n",
       " 'of',\n",
       " 'tim',\n",
       " ',',\n",
       " 'it',\n",
       " 'was',\n",
       " 'the',\n",
       " 'ag',\n",
       " 'of',\n",
       " 'wisdom']"
      ]
     },
     "execution_count": 84,
     "metadata": {},
     "output_type": "execute_result"
    }
   ],
   "source": [
    "tokens = word_tokenize(text)\n",
    "stems = []\n",
    "for i in tokens:\n",
    "    stems.append(lancaster.stem(i))\n",
    "\n",
    "stems[:20]\n",
    "\n",
    "\n",
    "    "
   ]
  },
  {
   "cell_type": "code",
   "execution_count": 61,
   "id": "05f6d740",
   "metadata": {},
   "outputs": [],
   "source": [
    "# To deal with names we can consider POS tagging and then run checks to ensure it doesn't stem the names"
   ]
  },
  {
   "cell_type": "markdown",
   "id": "9868c6d9",
   "metadata": {},
   "source": [
    "## 3.Lemmatization"
   ]
  },
  {
   "cell_type": "code",
   "execution_count": 71,
   "id": "57732cba",
   "metadata": {},
   "outputs": [
    {
     "data": {
      "text/plain": [
       "'wa'"
      ]
     },
     "execution_count": 71,
     "metadata": {},
     "output_type": "execute_result"
    }
   ],
   "source": [
    "from nltk.stem import WordNetLemmatizer\n",
    "lemma = WordNetLemmatizer()\n",
    "lemma.lemmatize(\"was\")"
   ]
  },
  {
   "cell_type": "code",
   "execution_count": 73,
   "id": "45a6b590",
   "metadata": {},
   "outputs": [
    {
     "data": {
      "text/plain": [
       "'be'"
      ]
     },
     "execution_count": 73,
     "metadata": {},
     "output_type": "execute_result"
    }
   ],
   "source": [
    "lemma.lemmatize(\"was\", pos= 'v')"
   ]
  },
  {
   "cell_type": "code",
   "execution_count": 74,
   "id": "1c97ac56",
   "metadata": {},
   "outputs": [
    {
     "data": {
      "text/plain": [
       "'mouse'"
      ]
     },
     "execution_count": 74,
     "metadata": {},
     "output_type": "execute_result"
    }
   ],
   "source": [
    "lemma.lemmatize(\"mice\")"
   ]
  },
  {
   "cell_type": "code",
   "execution_count": 79,
   "id": "f0d33c4e",
   "metadata": {},
   "outputs": [
    {
     "data": {
      "text/plain": [
       "'better'"
      ]
     },
     "execution_count": 79,
     "metadata": {},
     "output_type": "execute_result"
    }
   ],
   "source": [
    "lemma.lemmatize(\"better\")"
   ]
  },
  {
   "cell_type": "code",
   "execution_count": 80,
   "id": "c8f6cc3a",
   "metadata": {},
   "outputs": [
    {
     "data": {
      "text/plain": [
       "'best'"
      ]
     },
     "execution_count": 80,
     "metadata": {},
     "output_type": "execute_result"
    }
   ],
   "source": [
    "lemma.lemmatize(\"best\")"
   ]
  },
  {
   "cell_type": "code",
   "execution_count": 78,
   "id": "5ebb25be",
   "metadata": {},
   "outputs": [
    {
     "data": {
      "text/plain": [
       "'good'"
      ]
     },
     "execution_count": 78,
     "metadata": {},
     "output_type": "execute_result"
    }
   ],
   "source": [
    "lemma.lemmatize(\"better\", pos='a')"
   ]
  },
  {
   "cell_type": "code",
   "execution_count": 81,
   "id": "2ed863fe",
   "metadata": {},
   "outputs": [
    {
     "data": {
      "text/plain": [
       "'best'"
      ]
     },
     "execution_count": 81,
     "metadata": {},
     "output_type": "execute_result"
    }
   ],
   "source": [
    "lemma.lemmatize(\"best\", pos = 'a')"
   ]
  }
 ],
 "metadata": {
  "kernelspec": {
   "display_name": "Python 3 (ipykernel)",
   "language": "python",
   "name": "python3"
  },
  "language_info": {
   "codemirror_mode": {
    "name": "ipython",
    "version": 3
   },
   "file_extension": ".py",
   "mimetype": "text/x-python",
   "name": "python",
   "nbconvert_exporter": "python",
   "pygments_lexer": "ipython3",
   "version": "3.9.13"
  }
 },
 "nbformat": 4,
 "nbformat_minor": 5
}
